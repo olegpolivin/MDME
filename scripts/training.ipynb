{
    "cells": [
     {
      "cell_type": "code",
      "execution_count": 1,
      "metadata": {
       "vscode": {
        "languageId": "plaintext"
       }
      },
      "outputs": [],
      "source": [
       "import numpy as np\n",
       "import pandas as pd\n",
       "import os\n",
       "\n",
       "import keras\n",
       "import tensorflow as tf\n",
       "\n",
       "from scipy import stats\n",
       "from sklearn import metrics\n",
       "\n",
       "from tqdm.notebook import tqdm\n",
       "from typing import Sequence\n",
       "\n",
       "from activations import ordinal_softmax\n",
       "from datautils import load_customer_level_csv\n",
       "from metrics import cumulative_true, gini_from_gain\n",
       "from utils import dnn_split\n",
       "\n",
       "from layers import CoralOrdinal\n",
       "from loss import OrdinalCrossEntropy"
      ]
     },
     {
      "cell_type": "markdown",
      "metadata": {
       "vscode": {
        "languageId": "plaintext"
       }
      },
      "source": [
       "## 1 - Read Data"
      ]
     },
     {
      "cell_type": "code",
      "execution_count": 2,
      "metadata": {
       "vscode": {
        "languageId": "plaintext"
       }
      },
      "outputs": [],
      "source": [
       "CATEGORICAL_FEATURES = ['chain', 'dept', 'category', 'brand', 'productmeasure']\n",
       "NUMERIC_FEATURES = ['log_calibration_value']\n",
       "ALL_FEATURES = CATEGORICAL_FEATURES + NUMERIC_FEATURES"
      ]
     },
     {
      "cell_type": "code",
      "execution_count": 3,
      "metadata": {
       "vscode": {
        "languageId": "plaintext"
       }
      },
      "outputs": [],
      "source": [
       "COMPANY = 10000\n",
       "customer_level_data =  load_customer_level_csv(COMPANY)"
      ]
     },
     {
      "cell_type": "code",
      "execution_count": 4,
      "metadata": {},
      "outputs": [
       {
        "data": {
         "text/html": [
          "<div>\n",
          "<style scoped>\n",
          "    .dataframe tbody tr th:only-of-type {\n",
          "        vertical-align: middle;\n",
          "    }\n",
          "\n",
          "    .dataframe tbody tr th {\n",
          "        vertical-align: top;\n",
          "    }\n",
          "\n",
          "    .dataframe thead th {\n",
          "        text-align: right;\n",
          "    }\n",
          "</style>\n",
          "<table border=\"1\" class=\"dataframe\">\n",
          "  <thead>\n",
          "    <tr style=\"text-align: right;\">\n",
          "      <th></th>\n",
          "      <th>id</th>\n",
          "      <th>calibration_value</th>\n",
          "      <th>chain</th>\n",
          "      <th>dept</th>\n",
          "      <th>category</th>\n",
          "      <th>brand</th>\n",
          "      <th>productmeasure</th>\n",
          "      <th>holdout_value</th>\n",
          "      <th>log_calibration_value</th>\n",
          "      <th>label</th>\n",
          "    </tr>\n",
          "  </thead>\n",
          "  <tbody>\n",
          "    <tr>\n",
          "      <th>0</th>\n",
          "      <td>86246</td>\n",
          "      <td>0.69</td>\n",
          "      <td>205</td>\n",
          "      <td>97</td>\n",
          "      <td>9753</td>\n",
          "      <td>0</td>\n",
          "      <td>CT</td>\n",
          "      <td>322.730011</td>\n",
          "      <td>-0.371064</td>\n",
          "      <td>322.730011</td>\n",
          "    </tr>\n",
          "    <tr>\n",
          "      <th>1</th>\n",
          "      <td>86252</td>\n",
          "      <td>4.69</td>\n",
          "      <td>205</td>\n",
          "      <td>0</td>\n",
          "      <td>0</td>\n",
          "      <td>0</td>\n",
          "      <td>UNKNOWN</td>\n",
          "      <td>310.040009</td>\n",
          "      <td>1.545433</td>\n",
          "      <td>310.040009</td>\n",
          "    </tr>\n",
          "    <tr>\n",
          "      <th>2</th>\n",
          "      <td>12262064</td>\n",
          "      <td>0.99</td>\n",
          "      <td>95</td>\n",
          "      <td>97</td>\n",
          "      <td>9753</td>\n",
          "      <td>0</td>\n",
          "      <td>CT</td>\n",
          "      <td>11.730000</td>\n",
          "      <td>-0.010050</td>\n",
          "      <td>11.730000</td>\n",
          "    </tr>\n",
          "    <tr>\n",
          "      <th>3</th>\n",
          "      <td>12277270</td>\n",
          "      <td>1.99</td>\n",
          "      <td>95</td>\n",
          "      <td>0</td>\n",
          "      <td>0</td>\n",
          "      <td>0</td>\n",
          "      <td>UNKNOWN</td>\n",
          "      <td>139.270004</td>\n",
          "      <td>0.688135</td>\n",
          "      <td>139.270004</td>\n",
          "    </tr>\n",
          "    <tr>\n",
          "      <th>4</th>\n",
          "      <td>12332190</td>\n",
          "      <td>1.00</td>\n",
          "      <td>95</td>\n",
          "      <td>97</td>\n",
          "      <td>9753</td>\n",
          "      <td>0</td>\n",
          "      <td>CT</td>\n",
          "      <td>11.720000</td>\n",
          "      <td>0.000000</td>\n",
          "      <td>11.720000</td>\n",
          "    </tr>\n",
          "    <tr>\n",
          "      <th>5</th>\n",
          "      <td>12524696</td>\n",
          "      <td>0.20</td>\n",
          "      <td>4</td>\n",
          "      <td>99</td>\n",
          "      <td>9908</td>\n",
          "      <td>33170</td>\n",
          "      <td>OZ</td>\n",
          "      <td>8.070000</td>\n",
          "      <td>-1.609438</td>\n",
          "      <td>8.070000</td>\n",
          "    </tr>\n",
          "    <tr>\n",
          "      <th>6</th>\n",
          "      <td>12682470</td>\n",
          "      <td>2.99</td>\n",
          "      <td>18</td>\n",
          "      <td>0</td>\n",
          "      <td>0</td>\n",
          "      <td>0</td>\n",
          "      <td>UNKNOWN</td>\n",
          "      <td>0.990000</td>\n",
          "      <td>1.095273</td>\n",
          "      <td>0.990000</td>\n",
          "    </tr>\n",
          "    <tr>\n",
          "      <th>7</th>\n",
          "      <td>12996040</td>\n",
          "      <td>1.99</td>\n",
          "      <td>15</td>\n",
          "      <td>0</td>\n",
          "      <td>0</td>\n",
          "      <td>0</td>\n",
          "      <td>UNKNOWN</td>\n",
          "      <td>49.509998</td>\n",
          "      <td>0.688135</td>\n",
          "      <td>49.509998</td>\n",
          "    </tr>\n",
          "    <tr>\n",
          "      <th>8</th>\n",
          "      <td>13074629</td>\n",
          "      <td>1.25</td>\n",
          "      <td>14</td>\n",
          "      <td>97</td>\n",
          "      <td>9753</td>\n",
          "      <td>0</td>\n",
          "      <td>CT</td>\n",
          "      <td>17.150000</td>\n",
          "      <td>0.223144</td>\n",
          "      <td>17.150000</td>\n",
          "    </tr>\n",
          "    <tr>\n",
          "      <th>9</th>\n",
          "      <td>13089312</td>\n",
          "      <td>2.00</td>\n",
          "      <td>15</td>\n",
          "      <td>97</td>\n",
          "      <td>9753</td>\n",
          "      <td>0</td>\n",
          "      <td>CT</td>\n",
          "      <td>30.240000</td>\n",
          "      <td>0.693147</td>\n",
          "      <td>30.240000</td>\n",
          "    </tr>\n",
          "  </tbody>\n",
          "</table>\n",
          "</div>"
         ],
         "text/plain": [
          "         id  calibration_value chain dept category  brand productmeasure  \\\n",
          "0     86246               0.69   205   97     9753      0             CT   \n",
          "1     86252               4.69   205    0        0      0        UNKNOWN   \n",
          "2  12262064               0.99    95   97     9753      0             CT   \n",
          "3  12277270               1.99    95    0        0      0        UNKNOWN   \n",
          "4  12332190               1.00    95   97     9753      0             CT   \n",
          "5  12524696               0.20     4   99     9908  33170             OZ   \n",
          "6  12682470               2.99    18    0        0      0        UNKNOWN   \n",
          "7  12996040               1.99    15    0        0      0        UNKNOWN   \n",
          "8  13074629               1.25    14   97     9753      0             CT   \n",
          "9  13089312               2.00    15   97     9753      0             CT   \n",
          "\n",
          "   holdout_value  log_calibration_value       label  \n",
          "0     322.730011              -0.371064  322.730011  \n",
          "1     310.040009               1.545433  310.040009  \n",
          "2      11.730000              -0.010050   11.730000  \n",
          "3     139.270004               0.688135  139.270004  \n",
          "4      11.720000               0.000000   11.720000  \n",
          "5       8.070000              -1.609438    8.070000  \n",
          "6       0.990000               1.095273    0.990000  \n",
          "7      49.509998               0.688135   49.509998  \n",
          "8      17.150000               0.223144   17.150000  \n",
          "9      30.240000               0.693147   30.240000  "
         ]
        },
        "execution_count": 4,
        "metadata": {},
        "output_type": "execute_result"
       }
      ],
      "source": [
       "customer_level_data.head(10)"
      ]
     },
     {
      "cell_type": "markdown",
      "metadata": {
       "vscode": {
        "languageId": "plaintext"
       }
      },
      "source": [
       "## 2 - Split label into pre-defined distributions"
      ]
     },
     {
      "cell_type": "code",
      "execution_count": 5,
      "metadata": {
       "vscode": {
        "languageId": "plaintext"
       }
      },
      "outputs": [
       {
        "name": "stdout",
        "output_type": "stream",
        "text": [
         "12\n"
        ]
       }
      ],
      "source": [
       "bins = [-0.001, 0.5, 1.0, 2, 5, 10, 25, 50, 100, 1000, 10000, 100_000, 2062412.0] # <- predefined buckets\n",
       "keepbins = pd.cut(customer_level_data['label'], bins=bins, duplicates='drop').cat.categories.tolist()\n",
       "print(len(keepbins))\n",
       "customer_level_data['label_bucket'] = pd.cut(\n",
       "    customer_level_data['label'],\n",
       "    bins=bins,\n",
       "    retbins = True,\n",
       "    include_lowest = True,\n",
       "    labels = range(len(keepbins)),\n",
       "    duplicates='drop')[0].values"
      ]
     },
     {
      "cell_type": "code",
      "execution_count": 6,
      "metadata": {
       "vscode": {
        "languageId": "plaintext"
       }
      },
      "outputs": [],
      "source": [
       "NUM_DISTRIBUTIONS = 4 # <- number of distributions\n",
       "NUM_BUCKETS = len(keepbins) // NUM_DISTRIBUTIONS\n",
       "dct_buckets = {i: i%NUM_BUCKETS for i in range(len(keepbins))}\n",
       "dct_distributions = {i: i//NUM_BUCKETS for i in range(len(keepbins))}"
      ]
     },
     {
      "cell_type": "code",
      "execution_count": 7,
      "metadata": {},
      "outputs": [
       {
        "data": {
         "text/plain": [
          "{0: 0, 1: 1, 2: 2, 3: 0, 4: 1, 5: 2, 6: 0, 7: 1, 8: 2, 9: 0, 10: 1, 11: 2}"
         ]
        },
        "execution_count": 7,
        "metadata": {},
        "output_type": "execute_result"
       }
      ],
      "source": [
       "dct_buckets"
      ]
     },
     {
      "cell_type": "code",
      "execution_count": 8,
      "metadata": {},
      "outputs": [
       {
        "data": {
         "text/plain": [
          "{0: 0, 1: 0, 2: 0, 3: 1, 4: 1, 5: 1, 6: 2, 7: 2, 8: 2, 9: 3, 10: 3, 11: 3}"
         ]
        },
        "execution_count": 8,
        "metadata": {},
        "output_type": "execute_result"
       }
      ],
      "source": [
       "dct_distributions"
      ]
     },
     {
      "cell_type": "code",
      "execution_count": 9,
      "metadata": {
       "vscode": {
        "languageId": "plaintext"
       }
      },
      "outputs": [],
      "source": [
       "# Replace the labels according to distributions and buckets\n",
       "\n",
       "customer_level_data['label_distribution'] = customer_level_data['label_bucket']\n",
       "customer_level_data[\"label_distribution\"].replace(dct_distributions, inplace=True)\n",
       "customer_level_data[\"label_bucket\"].replace(dct_buckets, inplace=True)"
      ]
     },
     {
      "cell_type": "markdown",
      "metadata": {
       "vscode": {
        "languageId": "plaintext"
       }
      },
      "source": [
       "## 3- Train-Test Split"
      ]
     },
     {
      "cell_type": "code",
      "execution_count": 10,
      "metadata": {
       "vscode": {
        "languageId": "plaintext"
       }
      },
      "outputs": [],
      "source": [
       "# Min-Max scaling is performed inside the train/test split function. \n",
       "# Min-Max is performed separately for each distribution-bucket pair"
      ]
     },
     {
      "cell_type": "markdown",
      "metadata": {
       "vscode": {
        "languageId": "plaintext"
       }
      },
      "source": [
       "## 4 - Layers\n"
      ]
     },
     {
      "cell_type": "code",
      "execution_count": 11,
      "metadata": {
       "vscode": {
        "languageId": "plaintext"
       }
      },
      "outputs": [],
      "source": [
       "class SimpleDNN(tf.keras.layers.Layer):\n",
       "    def __init__(self, num_bins = 3):\n",
       "\n",
       "        super(SimpleDNN, self).__init__()\n",
       "        self.num_bins = num_bins\n",
       "\n",
       "        self.dropout1 = tf.keras.layers.Dropout(0.1)\n",
       "        self.fc1 = tf.keras.layers.Dense(64, activation=\"relu\")\n",
       "        self.fc2 = tf.keras.layers.Dense(32, activation=\"relu\")\n",
       "        self.fc3 = tf.keras.layers.Dense(num_bins)\n",
       "    \n",
       "    def call(self, x):\n",
       "        x = self.fc1(x)\n",
       "        x = self.dropout1(x)\n",
       "        x = self.fc2(x)\n",
       "        prob = self.fc3(x)\n",
       "        return prob\n"
      ]
     },
     {
      "cell_type": "code",
      "execution_count": 12,
      "metadata": {
       "vscode": {
        "languageId": "plaintext"
       }
      },
      "outputs": [],
      "source": [
       "class CoralDNN(tf.keras.layers.Layer):\n",
       "    def __init__(self, num_bins = 3):\n",
       "\n",
       "        super(CoralDNN, self).__init__()\n",
       "        self.num_bins = num_bins\n",
       "\n",
       "        self.fc1 = tf.keras.layers.Dense(64, activation=\"relu\")\n",
       "        self.dropout = tf.keras.layers.Dropout(0.1)\n",
       "        self.fc2 = tf.keras.layers.Dense(32, activation=\"relu\")\n",
       "        self.coral = CoralOrdinal(num_bins)\n",
       "    \n",
       "    def call(self, x):\n",
       "        x = self.fc1(x)\n",
       "        x = self.dropout(x)\n",
       "        x = self.fc2(x)\n",
       "        prob = self.coral(x)\n",
       "        return prob\n"
      ]
     },
     {
      "cell_type": "markdown",
      "metadata": {
       "vscode": {
        "languageId": "plaintext"
       }
      },
      "source": [
       "### 4-1 Distribution Segmentation Module (DSM)"
      ]
     },
     {
      "cell_type": "code",
      "execution_count": 13,
      "metadata": {
       "vscode": {
        "languageId": "plaintext"
       }
      },
      "outputs": [],
      "source": [
       "class DSM(tf.keras.layers.Layer):\n",
       "\n",
       "    def __init__(self, num_distributions=2):\n",
       "        super(DSM, self).__init__()\n",
       "\n",
       "        # predict distribution class\n",
       "        self.dct = SimpleDNN(num_bins=num_distributions)\n",
       "        \n",
       "        # predict distribution ordinality\n",
       "        self.dot = CoralDNN(num_bins=num_distributions)\n",
       "\n",
       "    def call(self, x, training=True):\n",
       "        dct = self.dct(x)\n",
       "        dot = self.dot(x)\n",
       "        return {\n",
       "            'pred_dct': dct,\n",
       "            'pred_dot': dot\n",
       "        }     "
      ]
     },
     {
      "cell_type": "markdown",
      "metadata": {
       "vscode": {
        "languageId": "plaintext"
       }
      },
      "source": [
       "### 4-2 Sub-Distribution modeling Module (SDM)\n"
      ]
     },
     {
      "cell_type": "code",
      "execution_count": 14,
      "metadata": {
       "vscode": {
        "languageId": "plaintext"
       }
      },
      "outputs": [],
      "source": [
       "class SDM(tf.keras.layers.Layer):\n",
       "    def __init__(self, num_buckets=2):\n",
       "\n",
       "        super(SDM, self).__init__()\n",
       "        # predict bucket class\n",
       "        self.bct = SimpleDNN(num_bins=num_buckets)\n",
       "        \n",
       "        # predict bucket ordinality\n",
       "#         self.bot = SimpleDNN(num_bins=num_buckets)\n",
       "        self.bot = CoralDNN(num_bins=num_buckets)\n",
       "\n",
       "        # predict minmax scaled label\n",
       "        self.deep_model = tf.keras.Sequential([tf.keras.layers.Dense(32, activation=\"relu\"),\n",
       "                                               tf.keras.layers.Dense(num_buckets, activation='sigmoid')])\n",
       "\n",
       "    def call(self, x, training=True):\n",
       "        bct = self.bct(x)\n",
       "        bot = self.bot(x)\n",
       "        y_pred = self.deep_model(x, training=training)\n",
       "        return {\n",
       "            'pred_bct': bct,\n",
       "            'pred_bot': bot,\n",
       "            'pred_label': y_pred\n",
       "        }"
      ]
     },
     {
      "cell_type": "markdown",
      "metadata": {
       "vscode": {
        "languageId": "plaintext"
       }
      },
      "source": [
       "## 4-3 Multi Distribution Multi Experts Module (MDME)"
      ]
     },
     {
      "cell_type": "code",
      "execution_count": 15,
      "metadata": {
       "vscode": {
        "languageId": "plaintext"
       }
      },
      "outputs": [],
      "source": [
       "class MDME(tf.keras.Model):\n",
       "    def __init__(self, ltvmodel, *args, **kwargs):\n",
       "\n",
       "        super().__init__()\n",
       "        self.ltvmodel = ltvmodel\n",
       "        self.loss_tracker = tf.keras.metrics.Mean(name=\"loss\")\n",
       "    \n",
       "    def compile(self, optimizer, loss_fn):\n",
       "        super().compile(optimizer)\n",
       "        self.optimizer = optimizer\n",
       "        self.loss_fn = loss_fn\n",
       "    \n",
       "    def call(self, x, training=False):\n",
       "        return self.ltvmodel(x, training=training)\n",
       "    \n",
       "    def predict(self, x, training=False):\n",
       "        y = self(x, training=training)\n",
       "        return y\n",
       "\n",
       "    @property\n",
       "    def metrics(self):\n",
       "        # We list our `Metric` objects here so that `reset_states()` can be\n",
       "        # called automatically at the start of each epoch\n",
       "        # or at the start of `evaluate()`.\n",
       "        # If you don't implement this property, you have to call\n",
       "        # `reset_states()` yourself at the time of your choosing.\n",
       "        return [self.loss_tracker]\n",
       "    \n",
       "    def train_step(self, data):\n",
       "        x, y = data\n",
       "        with tf.GradientTape() as tape:\n",
       "            y_pred = self(x, training=True)\n",
       "            loss_value = self.loss_fn(y, y_pred)\n",
       "        grads = tape.gradient(loss_value, self.trainable_variables)\n",
       "        self.optimizer.apply_gradients(zip(grads, self.trainable_variables))\n",
       "        self.loss_tracker.update_state(loss_value)\n",
       "        return {\"loss\": self.loss_tracker.result()}\n",
       "    \n",
       "    def test_step(self, data):\n",
       "        x, y = data\n",
       "        y_pred = self(x, training=False)\n",
       "        loss_value = self.loss_fn(y, y_pred)\n",
       "        \n",
       "        self.loss_tracker.update_state(loss_value)\n",
       "        # Return a dict mapping metric names to current value.\n",
       "        # Note that it will include the loss (tracked in self.metrics).\n",
       "        return {\"loss_val\": self.loss_tracker.result()}"
      ]
     },
     {
      "cell_type": "markdown",
      "metadata": {
       "vscode": {
        "languageId": "plaintext"
       }
      },
      "source": [
       "## 4-4 Defining loss "
      ]
     },
     {
      "cell_type": "code",
      "execution_count": 16,
      "metadata": {
       "vscode": {
        "languageId": "plaintext"
       }
      },
      "outputs": [],
      "source": [
       "class MDMELoss(tf.keras.losses.Loss):\n",
       "\n",
       "    # initialize instance attributes\n",
       "    def __init__(self):\n",
       "        super(MDMELoss, self).__init__()\n",
       "        \n",
       "    # Compute loss\n",
       "    def call(self, y_true, y_pred):\n",
       "        \n",
       "        losses = []\n",
       "        \n",
       "        y_true_dct = y_true['label_distribution']\n",
       "        y_true_dot = y_true['label_ordinality']\n",
       "        y_true_bucket_bct = y_true['bucket_distribution']\n",
       "        y_true_bucket_bot = y_true['bucket_ordinality']\n",
       "        y_true_bucket_label_minmax = y_true['label_minmax']\n",
       "        \n",
       "        y_pred_dct = y_pred['dsm']['pred_dct']        \n",
       "        y_pred_dot = y_pred['dsm']['pred_dot'] \n",
       "        \n",
       "        y_pred_bcts = []\n",
       "        y_pred_bots = []\n",
       "        y_pred_labels = []\n",
       "\n",
       "        for i in range(NUM_DISTRIBUTIONS):\n",
       "            y_pred_bcts.append(y_pred[f\"sdm_{i}\"]['pred_bct'])\n",
       "            y_pred_bots.append(y_pred[f\"sdm_{i}\"]['pred_bot'])\n",
       "            y_pred_labels.append(y_pred[f\"sdm_{i}\"]['pred_label'])\n",
       "        y_pred_bcts = tf.stack(y_pred_bcts, axis=1)\n",
       "        y_pred_bots = tf.stack(y_pred_bots, axis=1)\n",
       "        y_pred_labels = tf.stack(y_pred_labels, axis=1)\n",
       "        \n",
       "\n",
       "        predicted_distribution_label = tf.argmax(y_pred_dct, axis=1)\n",
       "        y_pred_bct = tf.gather(y_pred_bcts, predicted_distribution_label, batch_dims=1)\n",
       "        y_pred_bot = tf.gather(y_pred_bots, predicted_distribution_label, batch_dims=1)\n",
       "        y_pred_label = tf.gather(y_pred_labels, predicted_distribution_label, batch_dims=1)\n",
       "\n",
       "        # Distribution classification loss\n",
       "        loss_dct = tf.keras.losses.SparseCategoricalCrossentropy(\n",
       "            from_logits=True, reduction='sum_over_batch_size')(y_true_dct, y_pred_dct)\n",
       "        losses.append(loss_dct)\n",
       "\n",
       "        # Distribution ordinal regression loss\n",
       "        loss_dot = OrdinalCrossEntropy(NUM_DISTRIBUTIONS, reduction='sum_over_batch_size')(y_true_dot, y_pred_dot)\n",
       "        losses.append(loss_dot)\n",
       "\n",
       "        T = 0.1\n",
       "        soft_teacher = ordinal_softmax(y_pred_dot / T)  # Teacher soft labels\n",
       "        soft_student = tf.nn.softmax(y_pred_dct / T)  # Teacher soft labels\n",
       "        loss_soft_labels = tf.keras.losses.KLDivergence(reduction='sum_over_batch_size')(tf.stop_gradient(soft_teacher), soft_student)\n",
       "#         loss_soft_labels = tf.keras.losses.CategoricalCrossentropy(\n",
       "#             from_logits=False,\n",
       "#             reduction='sum_over_batch_size')(tf.stop_gradient(soft_teacher), soft_student)\n",
       "        losses.append(0.5*loss_soft_labels)\n",
       "\n",
       "        # Bucket classification loss\n",
       "        loss_bucket_bct = tf.keras.losses.SparseCategoricalCrossentropy(\n",
       "            from_logits=True, \n",
       "            reduction='sum_over_batch_size')(y_true_bucket_bct, y_pred_bct)\n",
       "        losses.append(loss_bucket_bct)\n",
       "\n",
       "        # Bucket ordinal regression loss\n",
       "        loss_bucket_bot = OrdinalCrossEntropy(NUM_BUCKETS, reduction='sum_over_batch_size')(y_true_bucket_bot, y_pred_bot)\n",
       "        losses.append(loss_bucket_bot)\n",
       "\n",
       "        # Soft label loss\n",
       "        T = 0.1\n",
       "        soft_teacher = ordinal_softmax(y_pred_bot / T)  # Teacher soft labels\n",
       "        soft_student = tf.nn.softmax(y_pred_bct / T)  # Teacher soft labels\n",
       "        loss_soft_labels_bucket = tf.keras.losses.KLDivergence(\n",
       "            reduction='sum_over_batch_size')(tf.stop_gradient(soft_teacher), soft_student)\n",
       "#         loss_soft_labels_bucket = tf.keras.losses.CategoricalCrossentropy(\n",
       "#             from_logits=False,\n",
       "#             reduction='sum_over_batch_size')(tf.stop_gradient(soft_teacher), soft_student)\n",
       "        losses.append(0.5*loss_soft_labels_bucket)\n",
       "\n",
       "        # MSE Loss\n",
       "        predicted_bucket_label = tf.argmax(y_pred_bct, axis=-1)\n",
       "        y_pred_labels = tf.gather(y_pred_label, predicted_bucket_label, batch_dims=1)\n",
       "        loss_mse = tf.keras.losses.MeanSquaredError(\n",
       "            reduction='sum_over_batch_size')(y_true_bucket_label_minmax, y_pred_labels)\n",
       "        losses.append(loss_mse)\n",
       "\n",
       "        return tf.reduce_sum(losses)"
      ]
     },
     {
      "cell_type": "markdown",
      "metadata": {
       "vscode": {
        "languageId": "plaintext"
       }
      },
      "source": [
       "## 5 - Building Input"
      ]
     },
     {
      "cell_type": "code",
      "execution_count": 17,
      "metadata": {
       "vscode": {
        "languageId": "plaintext"
       }
      },
      "outputs": [],
      "source": [
       "def embedding_dim(x):\n",
       "    return int(x**.25) + 1\n",
       "\n",
       "def embedding_layer(vocab_size):\n",
       "    return tf.keras.Sequential([\n",
       "        tf.keras.layers.Embedding(input_dim=vocab_size,\n",
       "#                                   output_dim=embedding_dim(vocab_size),\n",
       "                                  output_dim = 5,\n",
       "                                  input_length=1),\n",
       "        tf.keras.layers.Flatten(),\n",
       "    ])"
      ]
     },
     {
      "cell_type": "code",
      "execution_count": 18,
      "metadata": {
       "vscode": {
        "languageId": "plaintext"
       }
      },
      "outputs": [],
      "source": [
       "numeric_input = tf.keras.layers.Input(shape=(len(NUMERIC_FEATURES),), name='numeric')\n",
       "embedding_inputs = [\n",
       "    tf.keras.layers.Input(shape=(1,), name=key, dtype=np.int64)\n",
       "    for key in CATEGORICAL_FEATURES\n",
       "]\n",
       "embedding_outputs = [\n",
       "    embedding_layer(vocab_size=customer_level_data[key].nunique())(input)\n",
       "    for key, input in zip(CATEGORICAL_FEATURES, embedding_inputs)\n",
       "]\n",
       "deep_input = tf.keras.layers.concatenate([numeric_input] + embedding_outputs)\n",
       "\n",
       "dsm_m = DSM(num_distributions=NUM_DISTRIBUTIONS)\n",
       "\n",
       "outputs = {}\n",
       "for i in range(NUM_DISTRIBUTIONS):\n",
       "    sdm = SDM(num_buckets=NUM_BUCKETS)\n",
       "    outputs[f\"sdm_{i}\"] = sdm(deep_input)\n",
       "        \n",
       "\n",
       "outputs['dsm'] = dsm_m(deep_input) \n",
       "\n",
       "ltvmodel = tf.keras.Model(inputs=[numeric_input] + embedding_inputs, outputs=outputs)"
      ]
     },
     {
      "cell_type": "code",
      "execution_count": 19,
      "metadata": {
       "vscode": {
        "languageId": "plaintext"
       }
      },
      "outputs": [
       {
        "name": "stdout",
        "output_type": "stream",
        "text": [
         "Initial Learning Rate: 0.0010000000474974513\n"
        ]
       }
      ],
      "source": [
       "LEARNING_RATE = 1e-3\n",
       "callbacks = [\n",
       "    tf.keras.callbacks.ReduceLROnPlateau(monitor='val_loss_val', min_lr=1e-6),\n",
       "    tf.keras.callbacks.EarlyStopping(monitor='val_loss_val', patience=10),\n",
       "]\n",
       "loss = MDMELoss()\n",
       "model = MDME(ltvmodel)\n",
       "model.compile(optimizer=tf.keras.optimizers.Adam(learning_rate=LEARNING_RATE), loss_fn=loss)\n",
       "print(f\"Initial Learning Rate: {model.optimizer.lr.numpy()}\")"
      ]
     },
     {
      "cell_type": "code",
      "execution_count": 20,
      "metadata": {
       "vscode": {
        "languageId": "plaintext"
       }
      },
      "outputs": [],
      "source": [
       "x_train, x_eval, y_train, y_eval, y0_eval = dnn_split(customer_level_data)"
      ]
     },
     {
      "cell_type": "code",
      "execution_count": 21,
      "metadata": {
       "vscode": {
        "languageId": "plaintext"
       }
      },
      "outputs": [
       {
        "name": "stdout",
        "output_type": "stream",
        "text": [
         "Epoch 1/400\n",
         "184/184 - 8s - loss: 5.8276 - val_loss_val: 5.5189 - lr: 0.0010 - 8s/epoch - 41ms/step\n",
         "Epoch 2/400\n",
         "184/184 - 2s - loss: 5.4451 - val_loss_val: 5.3192 - lr: 0.0010 - 2s/epoch - 13ms/step\n",
         "Epoch 3/400\n",
         "184/184 - 2s - loss: 5.2764 - val_loss_val: 5.1975 - lr: 0.0010 - 2s/epoch - 12ms/step\n",
         "Epoch 4/400\n",
         "184/184 - 2s - loss: 5.1480 - val_loss_val: 5.0769 - lr: 0.0010 - 2s/epoch - 12ms/step\n",
         "Epoch 5/400\n",
         "184/184 - 2s - loss: 5.0352 - val_loss_val: 4.9796 - lr: 0.0010 - 2s/epoch - 13ms/step\n",
         "Epoch 6/400\n",
         "184/184 - 2s - loss: 4.9484 - val_loss_val: 4.9154 - lr: 0.0010 - 2s/epoch - 13ms/step\n",
         "Epoch 7/400\n",
         "184/184 - 2s - loss: 4.8866 - val_loss_val: 4.8614 - lr: 0.0010 - 2s/epoch - 13ms/step\n",
         "Epoch 8/400\n",
         "184/184 - 2s - loss: 4.8360 - val_loss_val: 4.8195 - lr: 0.0010 - 2s/epoch - 12ms/step\n",
         "Epoch 9/400\n",
         "184/184 - 2s - loss: 4.7990 - val_loss_val: 4.7848 - lr: 0.0010 - 2s/epoch - 13ms/step\n",
         "Epoch 10/400\n",
         "184/184 - 2s - loss: 4.7660 - val_loss_val: 4.7566 - lr: 0.0010 - 2s/epoch - 12ms/step\n",
         "Epoch 11/400\n",
         "184/184 - 2s - loss: 4.7384 - val_loss_val: 4.7312 - lr: 0.0010 - 2s/epoch - 12ms/step\n",
         "Epoch 12/400\n",
         "184/184 - 2s - loss: 4.7169 - val_loss_val: 4.7162 - lr: 0.0010 - 2s/epoch - 12ms/step\n",
         "Epoch 13/400\n",
         "184/184 - 2s - loss: 4.6977 - val_loss_val: 4.6979 - lr: 0.0010 - 2s/epoch - 13ms/step\n",
         "Epoch 14/400\n",
         "184/184 - 2s - loss: 4.6809 - val_loss_val: 4.6840 - lr: 0.0010 - 2s/epoch - 13ms/step\n",
         "Epoch 15/400\n",
         "184/184 - 2s - loss: 4.6674 - val_loss_val: 4.6688 - lr: 0.0010 - 2s/epoch - 13ms/step\n",
         "Epoch 16/400\n",
         "184/184 - 2s - loss: 4.6558 - val_loss_val: 4.6577 - lr: 0.0010 - 2s/epoch - 12ms/step\n",
         "Epoch 17/400\n",
         "184/184 - 2s - loss: 4.6455 - val_loss_val: 4.6480 - lr: 0.0010 - 2s/epoch - 13ms/step\n",
         "Epoch 18/400\n",
         "184/184 - 2s - loss: 4.6369 - val_loss_val: 4.6429 - lr: 0.0010 - 2s/epoch - 12ms/step\n",
         "Epoch 19/400\n",
         "184/184 - 2s - loss: 4.6306 - val_loss_val: 4.6393 - lr: 0.0010 - 2s/epoch - 12ms/step\n",
         "Epoch 20/400\n",
         "184/184 - 2s - loss: 4.6236 - val_loss_val: 4.6297 - lr: 0.0010 - 2s/epoch - 13ms/step\n",
         "Epoch 21/400\n",
         "184/184 - 2s - loss: 4.6177 - val_loss_val: 4.6281 - lr: 0.0010 - 2s/epoch - 13ms/step\n",
         "Epoch 22/400\n",
         "184/184 - 2s - loss: 4.6125 - val_loss_val: 4.6205 - lr: 0.0010 - 2s/epoch - 13ms/step\n",
         "Epoch 23/400\n",
         "184/184 - 2s - loss: 4.6101 - val_loss_val: 4.6162 - lr: 0.0010 - 2s/epoch - 13ms/step\n",
         "Epoch 24/400\n",
         "184/184 - 2s - loss: 4.6056 - val_loss_val: 4.6106 - lr: 0.0010 - 2s/epoch - 13ms/step\n",
         "Epoch 25/400\n",
         "184/184 - 2s - loss: 4.6020 - val_loss_val: 4.6083 - lr: 0.0010 - 2s/epoch - 13ms/step\n",
         "Epoch 26/400\n",
         "184/184 - 2s - loss: 4.6000 - val_loss_val: 4.6082 - lr: 0.0010 - 2s/epoch - 13ms/step\n",
         "Epoch 27/400\n",
         "184/184 - 2s - loss: 4.5973 - val_loss_val: 4.6057 - lr: 0.0010 - 2s/epoch - 13ms/step\n",
         "Epoch 28/400\n",
         "184/184 - 2s - loss: 4.5956 - val_loss_val: 4.6046 - lr: 0.0010 - 2s/epoch - 13ms/step\n",
         "Epoch 29/400\n",
         "184/184 - 2s - loss: 4.5928 - val_loss_val: 4.5999 - lr: 0.0010 - 2s/epoch - 13ms/step\n",
         "Epoch 30/400\n",
         "184/184 - 2s - loss: 4.5918 - val_loss_val: 4.6005 - lr: 0.0010 - 2s/epoch - 13ms/step\n",
         "Epoch 31/400\n",
         "184/184 - 2s - loss: 4.5916 - val_loss_val: 4.6024 - lr: 0.0010 - 2s/epoch - 13ms/step\n",
         "Epoch 32/400\n",
         "184/184 - 2s - loss: 4.5895 - val_loss_val: 4.6006 - lr: 0.0010 - 2s/epoch - 13ms/step\n",
         "Epoch 33/400\n",
         "184/184 - 2s - loss: 4.5878 - val_loss_val: 4.5983 - lr: 0.0010 - 2s/epoch - 13ms/step\n",
         "Epoch 34/400\n",
         "184/184 - 2s - loss: 4.5870 - val_loss_val: 4.5986 - lr: 0.0010 - 2s/epoch - 12ms/step\n",
         "Epoch 35/400\n",
         "184/184 - 2s - loss: 4.5857 - val_loss_val: 4.5987 - lr: 0.0010 - 2s/epoch - 13ms/step\n",
         "Epoch 36/400\n",
         "184/184 - 2s - loss: 4.5835 - val_loss_val: 4.5948 - lr: 0.0010 - 2s/epoch - 13ms/step\n",
         "Epoch 37/400\n",
         "184/184 - 2s - loss: 4.5843 - val_loss_val: 4.5949 - lr: 0.0010 - 2s/epoch - 13ms/step\n",
         "Epoch 38/400\n",
         "184/184 - 2s - loss: 4.5844 - val_loss_val: 4.5974 - lr: 0.0010 - 2s/epoch - 13ms/step\n",
         "Epoch 39/400\n",
         "184/184 - 2s - loss: 4.5826 - val_loss_val: 4.5926 - lr: 0.0010 - 2s/epoch - 12ms/step\n",
         "Epoch 40/400\n",
         "184/184 - 2s - loss: 4.5826 - val_loss_val: 4.5938 - lr: 0.0010 - 2s/epoch - 13ms/step\n",
         "Epoch 41/400\n",
         "184/184 - 2s - loss: 4.5815 - val_loss_val: 4.5913 - lr: 0.0010 - 2s/epoch - 13ms/step\n",
         "Epoch 42/400\n",
         "184/184 - 2s - loss: 4.5801 - val_loss_val: 4.5924 - lr: 0.0010 - 2s/epoch - 13ms/step\n",
         "Epoch 43/400\n",
         "184/184 - 2s - loss: 4.5810 - val_loss_val: 4.5920 - lr: 0.0010 - 2s/epoch - 13ms/step\n",
         "Epoch 44/400\n",
         "184/184 - 2s - loss: 4.5794 - val_loss_val: 4.5912 - lr: 0.0010 - 2s/epoch - 12ms/step\n",
         "Epoch 45/400\n",
         "184/184 - 2s - loss: 4.5793 - val_loss_val: 4.5911 - lr: 0.0010 - 2s/epoch - 13ms/step\n",
         "Epoch 46/400\n",
         "184/184 - 2s - loss: 4.5786 - val_loss_val: 4.5879 - lr: 0.0010 - 2s/epoch - 13ms/step\n",
         "Epoch 47/400\n",
         "184/184 - 2s - loss: 4.5772 - val_loss_val: 4.5946 - lr: 0.0010 - 2s/epoch - 13ms/step\n",
         "Epoch 48/400\n",
         "184/184 - 2s - loss: 4.5787 - val_loss_val: 4.5919 - lr: 0.0010 - 2s/epoch - 13ms/step\n",
         "Epoch 49/400\n",
         "184/184 - 2s - loss: 4.5790 - val_loss_val: 4.5907 - lr: 0.0010 - 2s/epoch - 13ms/step\n",
         "Epoch 50/400\n",
         "184/184 - 2s - loss: 4.5787 - val_loss_val: 4.5910 - lr: 0.0010 - 2s/epoch - 13ms/step\n",
         "Epoch 51/400\n",
         "184/184 - 2s - loss: 4.5776 - val_loss_val: 4.5917 - lr: 0.0010 - 2s/epoch - 13ms/step\n",
         "Epoch 52/400\n",
         "184/184 - 2s - loss: 4.5760 - val_loss_val: 4.5916 - lr: 0.0010 - 2s/epoch - 13ms/step\n",
         "Epoch 53/400\n",
         "184/184 - 2s - loss: 4.5754 - val_loss_val: 4.5887 - lr: 0.0010 - 2s/epoch - 13ms/step\n",
         "Epoch 54/400\n",
         "184/184 - 2s - loss: 4.5786 - val_loss_val: 4.5954 - lr: 0.0010 - 2s/epoch - 12ms/step\n",
         "Epoch 55/400\n",
         "184/184 - 2s - loss: 4.5785 - val_loss_val: 4.5921 - lr: 0.0010 - 2s/epoch - 13ms/step\n",
         "Epoch 56/400\n",
         "184/184 - 2s - loss: 4.5756 - val_loss_val: 4.5863 - lr: 0.0010 - 2s/epoch - 12ms/step\n",
         "Epoch 57/400\n",
         "184/184 - 2s - loss: 4.5766 - val_loss_val: 4.5921 - lr: 0.0010 - 2s/epoch - 13ms/step\n",
         "Epoch 58/400\n",
         "184/184 - 2s - loss: 4.5756 - val_loss_val: 4.5916 - lr: 0.0010 - 2s/epoch - 13ms/step\n",
         "Epoch 59/400\n",
         "184/184 - 2s - loss: 4.5761 - val_loss_val: 4.5890 - lr: 0.0010 - 2s/epoch - 12ms/step\n",
         "Epoch 60/400\n",
         "184/184 - 2s - loss: 4.5763 - val_loss_val: 4.5877 - lr: 0.0010 - 2s/epoch - 13ms/step\n",
         "Epoch 61/400\n",
         "184/184 - 2s - loss: 4.5758 - val_loss_val: 4.5912 - lr: 0.0010 - 2s/epoch - 13ms/step\n",
         "Epoch 62/400\n",
         "184/184 - 2s - loss: 4.5738 - val_loss_val: 4.5891 - lr: 0.0010 - 2s/epoch - 13ms/step\n",
         "Epoch 63/400\n",
         "184/184 - 2s - loss: 4.5759 - val_loss_val: 4.5914 - lr: 0.0010 - 2s/epoch - 12ms/step\n",
         "Epoch 64/400\n",
         "184/184 - 2s - loss: 4.5740 - val_loss_val: 4.5878 - lr: 0.0010 - 2s/epoch - 13ms/step\n",
         "Epoch 65/400\n",
         "184/184 - 2s - loss: 4.5757 - val_loss_val: 4.5935 - lr: 0.0010 - 2s/epoch - 13ms/step\n",
         "Epoch 66/400\n",
         "184/184 - 2s - loss: 4.5736 - val_loss_val: 4.5896 - lr: 0.0010 - 2s/epoch - 12ms/step\n"
        ]
       }
      ],
      "source": [
       "history = model.fit(\n",
       "    x=x_train,\n",
       "    y=y_train,\n",
       "    batch_size=1024,\n",
       "    epochs=400,\n",
       "    verbose=2,\n",
       "    callbacks=callbacks,\n",
       "    validation_data=(x_eval, y_eval)).history"
      ]
     },
     {
      "cell_type": "code",
      "execution_count": 22,
      "metadata": {
       "vscode": {
        "languageId": "plaintext"
       }
      },
      "outputs": [
       {
        "data": {
         "text/plain": [
          "<AxesSubplot:>"
         ]
        },
        "execution_count": 22,
        "metadata": {},
        "output_type": "execute_result"
       },
       {
        "data": {
         "image/png": "[encoded data removed]",
         "text/plain": [
          "<Figure size 640x480 with 1 Axes>"
         ]
        },
        "metadata": {},
        "output_type": "display_data"
       }
      ],
      "source": [
       "pd.DataFrame(history)[['loss', 'val_loss_val']][2:].plot()"
      ]
     },
     {
      "cell_type": "markdown",
      "metadata": {
       "vscode": {
        "languageId": "plaintext"
       }
      },
      "source": [
       "## 6 - Inference"
      ]
     },
     {
      "cell_type": "code",
      "execution_count": 23,
      "metadata": {
       "vscode": {
        "languageId": "plaintext"
       }
      },
      "outputs": [],
      "source": [
       "logits = model.predict(x=x_eval)\n",
       "y_pred = []\n",
       "for i in range(logits['dsm']['pred_dct'].shape[0]):\n",
       "    item = logits['dsm']['pred_dct'][i]\n",
       "    distribution_label = tf.math.argmax(item).numpy()\n",
       "    bucket = logits[f\"sdm_{distribution_label}\"]['pred_bct'][i]\n",
       "    sigmas = logits[f\"sdm_{distribution_label}\"]['pred_label'][i]\n",
       "    bucket_label = tf.math.argmax(bucket).numpy()\n",
       "    idx = distribution_label * NUM_BUCKETS + bucket_label\n",
       "    pred = keepbins[idx].left + sigmas[bucket_label] * keepbins[idx].length\n",
       "    y_pred.append(pred.numpy())"
      ]
     },
     {
      "cell_type": "markdown",
      "metadata": {
       "vscode": {
        "languageId": "plaintext"
       }
      },
      "source": [
       "## 7 - Evaluation"
      ]
     },
     {
      "cell_type": "code",
      "execution_count": 24,
      "metadata": {
       "vscode": {
        "languageId": "plaintext"
       }
      },
      "outputs": [
       {
        "data": {
         "text/html": [
          "<div>\n",
          "<style scoped>\n",
          "    .dataframe tbody tr th:only-of-type {\n",
          "        vertical-align: middle;\n",
          "    }\n",
          "\n",
          "    .dataframe tbody tr th {\n",
          "        vertical-align: top;\n",
          "    }\n",
          "\n",
          "    .dataframe thead th {\n",
          "        text-align: right;\n",
          "    }\n",
          "</style>\n",
          "<table border=\"1\" class=\"dataframe\">\n",
          "  <thead>\n",
          "    <tr style=\"text-align: right;\">\n",
          "      <th></th>\n",
          "      <th>y_true</th>\n",
          "      <th>y_pred</th>\n",
          "      <th>label_distribution</th>\n",
          "      <th>bucket_distribution</th>\n",
          "    </tr>\n",
          "  </thead>\n",
          "  <tbody>\n",
          "    <tr>\n",
          "      <th>69003</th>\n",
          "      <td>31.400000</td>\n",
          "      <td>6.975223</td>\n",
          "      <td>2</td>\n",
          "      <td>0</td>\n",
          "    </tr>\n",
          "    <tr>\n",
          "      <th>87546</th>\n",
          "      <td>0.990000</td>\n",
          "      <td>70.562073</td>\n",
          "      <td>0</td>\n",
          "      <td>1</td>\n",
          "    </tr>\n",
          "    <tr>\n",
          "      <th>174617</th>\n",
          "      <td>0.990000</td>\n",
          "      <td>0.173319</td>\n",
          "      <td>0</td>\n",
          "      <td>1</td>\n",
          "    </tr>\n",
          "    <tr>\n",
          "      <th>181104</th>\n",
          "      <td>48.330002</td>\n",
          "      <td>6.867325</td>\n",
          "      <td>2</td>\n",
          "      <td>0</td>\n",
          "    </tr>\n",
          "    <tr>\n",
          "      <th>7254</th>\n",
          "      <td>1.300000</td>\n",
          "      <td>7.187225</td>\n",
          "      <td>0</td>\n",
          "      <td>2</td>\n",
          "    </tr>\n",
          "    <tr>\n",
          "      <th>229183</th>\n",
          "      <td>9.450000</td>\n",
          "      <td>6.961293</td>\n",
          "      <td>1</td>\n",
          "      <td>1</td>\n",
          "    </tr>\n",
          "    <tr>\n",
          "      <th>29027</th>\n",
          "      <td>20.750000</td>\n",
          "      <td>6.910069</td>\n",
          "      <td>1</td>\n",
          "      <td>2</td>\n",
          "    </tr>\n",
          "    <tr>\n",
          "      <th>135880</th>\n",
          "      <td>43.200001</td>\n",
          "      <td>7.004164</td>\n",
          "      <td>2</td>\n",
          "      <td>0</td>\n",
          "    </tr>\n",
          "    <tr>\n",
          "      <th>115346</th>\n",
          "      <td>15.000000</td>\n",
          "      <td>7.027415</td>\n",
          "      <td>1</td>\n",
          "      <td>2</td>\n",
          "    </tr>\n",
          "    <tr>\n",
          "      <th>153886</th>\n",
          "      <td>0.000000</td>\n",
          "      <td>6.984661</td>\n",
          "      <td>0</td>\n",
          "      <td>0</td>\n",
          "    </tr>\n",
          "  </tbody>\n",
          "</table>\n",
          "</div>"
         ],
         "text/plain": [
          "           y_true     y_pred  label_distribution  bucket_distribution\n",
          "69003   31.400000   6.975223                   2                    0\n",
          "87546    0.990000  70.562073                   0                    1\n",
          "174617   0.990000   0.173319                   0                    1\n",
          "181104  48.330002   6.867325                   2                    0\n",
          "7254     1.300000   7.187225                   0                    2\n",
          "229183   9.450000   6.961293                   1                    1\n",
          "29027   20.750000   6.910069                   1                    2\n",
          "135880  43.200001   7.004164                   2                    0\n",
          "115346  15.000000   7.027415                   1                    2\n",
          "153886   0.000000   6.984661                   0                    0"
         ]
        },
        "execution_count": 24,
        "metadata": {},
        "output_type": "execute_result"
       }
      ],
      "source": [
       "df_pred = pd.DataFrame({\n",
       "    'y_true': y_eval['label'],\n",
       "    'y_pred': y_pred,\n",
       "    'label_distribution': y_eval['label_distribution'],\n",
       "    'bucket_distribution': y_eval['bucket_distribution'],\n",
       "})\n",
       "df_pred.head(10)"
      ]
     },
     {
      "cell_type": "code",
      "execution_count": 25,
      "metadata": {
       "vscode": {
        "languageId": "plaintext"
       }
      },
      "outputs": [
       {
        "name": "stdout",
        "output_type": "stream",
        "text": [
         "Spearman correlation: 0.1933827230662824\n",
         "Only positive samples spearman correlation: 0.10927816691307894\n"
        ]
       }
      ],
      "source": [
       "def spearmanr(x1: Sequence[float], x2: Sequence[float]) -> float:\n",
       "  \"\"\"Calculates spearmanr rank correlation coefficient.\n",
       "\n",
       "  See https://docs.scipy.org/doc/scipy/reference/stats.html.\n",
       "\n",
       "  Args:\n",
       "    x1: 1D array_like.\n",
       "    x2: 1D array_like.\n",
       "\n",
       "  Returns:\n",
       "    correlation: float.\n",
       "  \"\"\"\n",
       "  return stats.spearmanr(x1, x2, nan_policy='raise')[0]\n",
       "\n",
       "\n",
       "spearman_corr = spearmanr(df_pred['y_true'], df_pred['y_pred'])\n",
       "print('Spearman correlation:', spearman_corr)\n",
       "\n",
       "positive_index = df_pred['y_true'] > 0\n",
       "spearman_corr_pos = spearmanr(df_pred.loc[positive_index, 'y_true'], df_pred.loc[positive_index, 'y_pred'])\n",
       "print('Only positive samples spearman correlation:', spearman_corr_pos)"
      ]
     },
     {
      "cell_type": "code",
      "execution_count": 26,
      "metadata": {
       "vscode": {
        "languageId": "plaintext"
       }
      },
      "outputs": [],
      "source": [
       "gain = pd.DataFrame({\n",
       "    'lorenz': cumulative_true(df_pred['y_true'], df_pred['y_true']),\n",
       "    'baseline': cumulative_true(df_pred['y_true'], y0_eval),\n",
       "    'model': cumulative_true(df_pred['y_true'], df_pred['y_pred']),\n",
       "})\n",
       "num_customers = np.float32(gain.shape[0])\n",
       "gain['cumulative_customer'] = (np.arange(num_customers) + 1.) / num_customers"
      ]
     },
     {
      "cell_type": "code",
      "execution_count": 27,
      "metadata": {
       "vscode": {
        "languageId": "plaintext"
       }
      },
      "outputs": [
       {
        "data": {
         "text/html": [
          "<div>\n",
          "<style scoped>\n",
          "    .dataframe tbody tr th:only-of-type {\n",
          "        vertical-align: middle;\n",
          "    }\n",
          "\n",
          "    .dataframe tbody tr th {\n",
          "        vertical-align: top;\n",
          "    }\n",
          "\n",
          "    .dataframe thead th {\n",
          "        text-align: right;\n",
          "    }\n",
          "</style>\n",
          "<table border=\"1\" class=\"dataframe\">\n",
          "  <thead>\n",
          "    <tr style=\"text-align: right;\">\n",
          "      <th></th>\n",
          "      <th>raw</th>\n",
          "      <th>normalized</th>\n",
          "    </tr>\n",
          "  </thead>\n",
          "  <tbody>\n",
          "    <tr>\n",
          "      <th>lorenz</th>\n",
          "      <td>0.891897</td>\n",
          "      <td>1.000000</td>\n",
          "    </tr>\n",
          "    <tr>\n",
          "      <th>baseline</th>\n",
          "      <td>0.725321</td>\n",
          "      <td>0.813235</td>\n",
          "    </tr>\n",
          "    <tr>\n",
          "      <th>model</th>\n",
          "      <td>0.696189</td>\n",
          "      <td>0.780571</td>\n",
          "    </tr>\n",
          "  </tbody>\n",
          "</table>\n",
          "</div>"
         ],
         "text/plain": [
          "               raw  normalized\n",
          "lorenz    0.891897    1.000000\n",
          "baseline  0.725321    0.813235\n",
          "model     0.696189    0.780571"
         ]
        },
        "execution_count": 27,
        "metadata": {},
        "output_type": "execute_result"
       }
      ],
      "source": [
       "gini = gini_from_gain(gain[['lorenz', 'baseline', 'model']])\n",
       "gini"
      ]
     },
     {
      "cell_type": "code",
      "execution_count": 28,
      "metadata": {
       "vscode": {
        "languageId": "plaintext"
       }
      },
      "outputs": [
       {
        "data": {
         "text/plain": [
          "60.906475"
         ]
        },
        "execution_count": 28,
        "metadata": {},
        "output_type": "execute_result"
       }
      ],
      "source": [
       "metrics.mean_absolute_error(df_pred['y_true'], df_pred['y_pred'])"
      ]
     },
     {
      "cell_type": "markdown",
      "metadata": {},
      "source": []
     }
    ],
    "metadata": {
     "kernelspec": {
      "display_name": "Python 3",
      "language": "python",
      "name": "python3"
     },
     "language_info": {
      "codemirror_mode": {
       "name": "ipython",
       "version": 3
      },
      "file_extension": ".py",
      "mimetype": "text/x-python",
      "name": "python",
      "nbconvert_exporter": "python",
      "pygments_lexer": "ipython3",
      "version": "3.7.16"
     }
    },
    "nbformat": 4,
    "nbformat_minor": 2
   }
   